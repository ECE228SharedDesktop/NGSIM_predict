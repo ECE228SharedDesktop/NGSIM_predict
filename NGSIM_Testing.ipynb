{
 "cells": [
  {
   "cell_type": "markdown",
   "id": "c1ca3de5",
   "metadata": {},
   "source": [
    "# Testing neural networks on NGSIM dataset!"
   ]
  },
  {
   "cell_type": "code",
   "execution_count": 1,
   "id": "24a9ed3c",
   "metadata": {},
   "outputs": [
    {
     "name": "stderr",
     "output_type": "stream",
     "text": [
      "C:\\Users\\SharedDesktop228\\anaconda3\\envs\\ML_Env4\\lib\\site-packages\\tqdm\\auto.py:22: TqdmWarning: IProgress not found. Please update jupyter and ipywidgets. See https://ipywidgets.readthedocs.io/en/stable/user_install.html\n",
      "  from .autonotebook import tqdm as notebook_tqdm\n"
     ]
    },
    {
     "data": {
      "text/plain": [
       "<torch._C.Generator at 0x2341e321a70>"
      ]
     },
     "execution_count": 1,
     "metadata": {},
     "output_type": "execute_result"
    }
   ],
   "source": [
    "import matplotlib.pyplot as plt\n",
    "import numpy as np\n",
    "import torch\n",
    "from torch import nn, optim\n",
    "from torch.utils.data import DataLoader\n",
    "import torchvision.models as models\n",
    "from torchvision.models.resnet import resnet50\n",
    "import torch.nn.functional as F\n",
    "from tqdm import tqdm\n",
    "import os\n",
    "import random\n",
    "import pandas as pd\n",
    "import pickle\n",
    "np.random.seed(228)\n",
    "random.seed(228)\n",
    "torch.manual_seed(228)\n",
    "torch.random.manual_seed(228)\n"
   ]
  },
  {
   "cell_type": "code",
   "execution_count": 2,
   "id": "db95ee45",
   "metadata": {},
   "outputs": [
    {
     "name": "stderr",
     "output_type": "stream",
     "text": [
      "C:\\Users\\SharedDesktop228\\AppData\\Local\\Temp\\ipykernel_12756\\1212135371.py:2: DtypeWarning: Columns (13,22) have mixed types. Specify dtype option on import or set low_memory=False.\n",
      "  NGSIM = pd.read_csv(filename)\n"
     ]
    }
   ],
   "source": [
    "filename = \"Next_Generation_Simulation__NGSIM__Vehicle_Trajectories_and_Supporting_Data.csv\"\n",
    "NGSIM = pd.read_csv(filename)"
   ]
  },
  {
   "cell_type": "code",
   "execution_count": 3,
   "id": "9001c3f9",
   "metadata": {
    "scrolled": true
   },
   "outputs": [
    {
     "name": "stdout",
     "output_type": "stream",
     "text": [
      "Vehicle_ID         int64\n",
      "Frame_ID           int64\n",
      "Total_Frames      object\n",
      "Global_Time        int64\n",
      "Local_X          float64\n",
      "Local_Y          float64\n",
      "Global_X         float64\n",
      "Global_Y         float64\n",
      "v_length         float64\n",
      "v_Width          float64\n",
      "v_Class            int64\n",
      "v_Vel            float64\n",
      "v_Acc            float64\n",
      "Lane_ID           object\n",
      "O_Zone           float64\n",
      "D_Zone           float64\n",
      "Int_ID           float64\n",
      "Section_ID       float64\n",
      "Direction        float64\n",
      "Movement         float64\n",
      "Preceding         object\n",
      "Following         object\n",
      "Space_Headway     object\n",
      "Time_Headway      object\n",
      "Location          object\n",
      "dtype: object\n"
     ]
    }
   ],
   "source": [
    "def string2float(my_string):\n",
    "    return float(my_string.replace(',',''))\n",
    "NGSIM[\"Local_Y\"] = NGSIM[\"Local_Y\"].apply(string2float)"
   ]
  },
  {
   "cell_type": "markdown",
   "id": "f99c6507",
   "metadata": {},
   "source": [
    "# Dataset info:\n",
    "11,850,526 datapoints \n",
    "<br>\n",
    "<b>Labels:</b> \"Vehicle_ID\" \"Frame_ID\" \"Total_Frames\" \"Global_Time\" \"Local_X\" \"Local_Y\" \"Global_X\"\n",
    "                             \"Global_Y\" \"v_length\" \"v_Width\" \"v_Class\" \"v_Vel\" v_Acc Lane_ID O_Zone D_Zone Int_ID\n",
    "                             Section_ID Direction Movement Preceding Following Space_Headway Time_Headway Location\n",
    "<br>\n",
    "<b>Locations:</b> \"us-101\" \"i-80\" \"lankershim\" \"peachtree\""
   ]
  },
  {
   "cell_type": "code",
   "execution_count": 94,
   "id": "f8d30438",
   "metadata": {},
   "outputs": [],
   "source": [
    "def get_id_list(data, location):\n",
    "    '''\n",
    "    Inputs:\n",
    "        data: NGSIM subset data according to location (pandas DataFrame)\n",
    "        location: location (string)\n",
    "    '''\n",
    "    filename = location + \"_id_list\"\n",
    "    try:\n",
    "        with open(filename, \"rb\") as fp:\n",
    "            id_list = pickle.load(fp)\n",
    "    except: \n",
    "        id_list = []\n",
    "        for i in tqdm(range(data.shape[0])):\n",
    "            if data.iloc[i].loc[\"Vehicle_ID\"] not in id_list:\n",
    "                id_list.append(data.iloc[i].loc[\"Vehicle_ID\"])\n",
    "        id_list.sort()\n",
    "        with open(filename, \"wb\") as fp:\n",
    "            pickle.dump(id_list, fp)\n",
    "    \n",
    "    return id_list\n",
    "\n",
    "def filter_extra_IDs(vehicle_data):\n",
    "    total_frame_tracker = []\n",
    "    for i in range(vehicle_data.shape[0]):\n",
    "        if vehicle_data.iloc[i].loc[\"Total_Frames\"] not in total_frame_tracker:\n",
    "            total_frame_tracker.append(vehicle_data.iloc[i].loc[\"Total_Frames\"])\n",
    "    most_frames = max(total_frame_tracker)\n",
    "    vehicle_data = vehicle_data.loc[vehicle_data[\"Total_Frames\"] == most_frames]\n",
    "    return vehicle_data\n",
    "\n",
    "def graph_lane_vs_frame(vehicle_data):\n",
    "    Lane_ID = vehicle_data[\"Lane_ID\"].to_numpy(dtype=np.float16)   \n",
    "    fig, [ax1, ax2] = plt.subplots(2, 1, sharex=True)\n",
    "    ax1.scatter(vehicle_data[\"Frame_ID\"], Lane_ID)\n",
    "    ax2.scatter(vehicle_data[\"Frame_ID\"], vehicle_data[\"Local_X\"])\n",
    "    ax1.set_title(\"Lane ID\")\n",
    "    ax2.set_title(\"Local X\")\n",
    "    plt.xlabel(\"Frame ID\")\n",
    "\n",
    "def detect_switches(vehicle_data, delete_interval=1.5):\n",
    "    Lane_ID = vehicle_data[\"Lane_ID\"].to_numpy(dtype=int)\n",
    "    boolean_switch = np.diff(Lane_ID)\n",
    "    switch_index = np.where(boolean_switch != 0)\n",
    "    switch_index = switch_index[0] + 1\n",
    "    switch_frames = vehicle_data[\"Frame_ID\"].iloc[switch_index].to_numpy()\n",
    "    \n",
    "    # sometimes the lane switch data is fuzzy. Deleting lane switches within <delete_interval> seconds\n",
    "    if len(switch_frames) >= 2:\n",
    "        delete_frames = int(delete_interval*10)\n",
    "        frames_between_switches = np.diff(switch_frames)\n",
    "        frames_too_close = frames_between_switches < delete_frames\n",
    "        frames_too_close = np.append(False, frames_too_close)\n",
    "        switch_frames = np.delete(switch_frames, frames_too_close)\n",
    "    \n",
    "    switch_frames = validate_switches(switch_frames, vehicle_data)\n",
    "    \n",
    "    # even if no lane change, we still want to sample\n",
    "    if len(switch_frames)==0:\n",
    "        lowest_frame = vehicle_data[\"Frame_ID\"].iloc[0]+51\n",
    "        highest_frame = vehicle_data[\"Frame_ID\"].iloc[vehicle_data.shape[0]-1]-53\n",
    "        switch_frames = [random.randint(lowest_frame, highest_frame)]\n",
    "    return switch_frames\n",
    "\n",
    "def validate_switches(switch_frames, vehicle_data):\n",
    "    first_frame = vehicle_data[\"Frame_ID\"].iloc[0]\n",
    "    last_frame = vehicle_data[\"Frame_ID\"].iloc[vehicle_data.shape[0]-1]\n",
    "\n",
    "    bool_delete = np.zeros_like(switch_frames, dtype=bool)\n",
    "    \n",
    "    for index, value in enumerate(switch_frames):\n",
    "        if abs(last_frame-value) <= 53 or abs(first_frame-value) <= 53:\n",
    "            bool_delete[index] = True\n",
    "    switch_frames = np.delete(switch_frames, bool_delete)\n",
    "    return switch_frames\n",
    " \n",
    "def extract_features(switch_frame, vehicle_data, time_interval=5):\n",
    "    '''\n",
    "    Inputs:\n",
    "        switch_frame: singular lane switch frame\n",
    "        vehicle_data: same as always\n",
    "        time_interval: how much time in future and past we take into account. Default: 5s (50 frames before and after LC)\n",
    "    Returns:\n",
    "        first and second time derivatives using future values (for example: v_t calculated using x_t and x_(t+1)).\n",
    "            Each is a 100-D array, with lane switch occuring at 51st index (50th if zero-indexing). Because of \n",
    "            downsampling when taking time difference, two extra timesteps must be considered in the frame_interval\n",
    "    '''\n",
    "    delta_t = 0.1\n",
    "    num_frames = int(time_interval/delta_t*2)\n",
    "    frame_interval = np.array([switch_frame-(time_interval/delta_t), switch_frame+(time_interval/delta_t)+2], dtype=int)\n",
    "    # Extracting data within frame_interval\n",
    "    interval_data = vehicle_data.loc[vehicle_data[\"Frame_ID\"]>=frame_interval[0]]\n",
    "    interval_data = interval_data.loc[vehicle_data[\"Frame_ID\"]<=frame_interval[1]]\n",
    "    x_pos = interval_data[\"Local_X\"].to_numpy(dtype=np.float32)\n",
    "    y_pos = interval_data[\"Local_Y\"].to_numpy(dtype=np.float32)\n",
    "    assert len(x_pos)==103\n",
    "    assert len(y_pos)==103\n",
    "    \n",
    "    # Positional time derivatives\n",
    "    delta_x = np.diff(x_pos)\n",
    "    delta_y = np.diff(y_pos)\n",
    "    v_x = delta_x/delta_t\n",
    "    v_y = delta_y/delta_t\n",
    "    delta_v_x = np.diff(v_x)\n",
    "    \n",
    "#     yaw = np.arctan(np.divide(v_x,v_y))\n",
    "    yaw = np.arctan2(v_x, v_y)\n",
    "    yaw_rate = np.diff(yaw)/delta_t\n",
    "    \n",
    "    yaw = yaw[:num_frames]\n",
    "    yaw_rate = yaw_rate\n",
    "    lat_vel = v_x\n",
    "    lat_accel = delta_v_x/delta_t\n",
    "    \n",
    "    return [yaw, yaw_rate, lat_vel, lat_accel]\n",
    "\n",
    "def detect_lane_change(frame, vehicle_data):\n",
    "    '''\n",
    "    Detects and returns hot one encoding for left lane switch [1 0 0], no change [0 1 0] or right lane switch [0 0 1]\n",
    "\n",
    "    '''\n",
    "\n",
    "    prev_lane = vehicle_data.loc[vehicle_data[\"Frame_ID\"]==frame-1][\"Lane_ID\"].to_numpy(dtype=int)\n",
    "    current_lane = vehicle_data.loc[vehicle_data[\"Frame_ID\"]==frame][\"Lane_ID\"].to_numpy(dtype=int)\n",
    "    \n",
    "    if len(prev_lane)!=1 or len(current_lane)!=1:\n",
    "        return False\n",
    "\n",
    "    if current_lane == prev_lane:\n",
    "        LS = np.array([0, 1, 0])\n",
    "    elif current_lane < prev_lane:\n",
    "        LS = np.array([1, 0, 0])\n",
    "    elif current_lane > prev_lane:\n",
    "        LS = np.array([0, 0, 1])\n",
    "    return LS\n",
    "        \n",
    "    "
   ]
  },
  {
   "cell_type": "code",
   "execution_count": null,
   "id": "f5b2b43e",
   "metadata": {},
   "outputs": [],
   "source": [
    "class my_dataset:\n",
    "    def __init__(self, num_validation_data=300,num_training_data=80,num_timesteps=100):\n",
    "        self.num_validation_data=num_validation_data\n",
    "        self.num_training_data=num_training_data\n",
    "        self.total_num_data = self.num_validation_data + self.num_training_data\n",
    "        self.num_extracted_data = 4\n",
    "        self.num_timesteps = num_timesteps\n",
    "        \n",
    "        self.left_turn_data = np.zeros((self.total_num_data, self.num_timesteps, self.num_extracted_data))\n",
    "        self.right_turn_data = \n",
    "        "
   ]
  },
  {
   "cell_type": "code",
   "execution_count": 95,
   "id": "03a46321",
   "metadata": {
    "scrolled": true
   },
   "outputs": [
    {
     "name": "stderr",
     "output_type": "stream",
     "text": [
      "100%|██████████| 2847/2847 [07:45<00:00,  6.11it/s]"
     ]
    },
    {
     "name": "stdout",
     "output_type": "stream",
     "text": [
      "[ 464 2057  175]\n"
     ]
    },
    {
     "name": "stderr",
     "output_type": "stream",
     "text": [
      "\n"
     ]
    }
   ],
   "source": [
    "# LOCATIONS = [\"us-101\", \"i-80\", \"lankershim\", \"peachtree\"]\n",
    "LOCATIONS = [\"us-101\", \"i-80\"]\n",
    "\n",
    "LC_tracker = np.array([0,0,0])\n",
    "for location in LOCATIONS:\n",
    "    data = NGSIM.loc[NGSIM[\"Location\"] == location]\n",
    "    id_list = get_id_list(data, location)\n",
    "    \n",
    "    for i in tqdm(id_list):\n",
    "#     for i in [id_list[432]]: # Edge case: multiple quick successive lane changes\n",
    "#     for i in [20]: # Edge case: lane switch close to end\n",
    "#     for i in [344]: # Edge case: duplicate data for multiple frames\n",
    "#     for i in [1234]: # Edge case: duplicate and missing data\n",
    "\n",
    "        vehicle_data = data.loc[data[\"Vehicle_ID\"] == i].sort_values(\"Frame_ID\")\n",
    "        vehicle_data = filter_extra_IDs(vehicle_data)\n",
    "        \n",
    "        switch_frames = detect_switches(vehicle_data)\n",
    "\n",
    "        for single_switch_frame in switch_frames:\n",
    "            lane_change = detect_lane_change(single_switch_frame, vehicle_data)\n",
    "            if lane_change is not False:\n",
    "                yaw, yaw_rate, lat_vel, lat_accel = extract_features(single_switch_frame, vehicle_data)\n",
    "            else:\n",
    "                continue\n",
    "            LC_tracker = LC_tracker + lane_change\n",
    "\n",
    "    print(LC_tracker)\n",
    "        \n",
    "        \n"
   ]
  },
  {
   "cell_type": "code",
   "execution_count": 89,
   "id": "54320474",
   "metadata": {},
   "outputs": [
    {
     "name": "stdout",
     "output_type": "stream",
     "text": [
      "344\n"
     ]
    }
   ],
   "source": [
    "print(i)"
   ]
  },
  {
   "cell_type": "code",
   "execution_count": 91,
   "id": "16e94c00",
   "metadata": {},
   "outputs": [
    {
     "name": "stdout",
     "output_type": "stream",
     "text": [
      "True\n"
     ]
    }
   ],
   "source": []
  },
  {
   "cell_type": "code",
   "execution_count": null,
   "id": "0544daf6",
   "metadata": {},
   "outputs": [],
   "source": []
  }
 ],
 "metadata": {
  "kernelspec": {
   "display_name": "Python 3 (ipykernel)",
   "language": "python",
   "name": "python3"
  },
  "language_info": {
   "codemirror_mode": {
    "name": "ipython",
    "version": 3
   },
   "file_extension": ".py",
   "mimetype": "text/x-python",
   "name": "python",
   "nbconvert_exporter": "python",
   "pygments_lexer": "ipython3",
   "version": "3.10.4"
  }
 },
 "nbformat": 4,
 "nbformat_minor": 5
}
